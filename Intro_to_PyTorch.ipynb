{
  "nbformat": 4,
  "nbformat_minor": 0,
  "metadata": {
    "colab": {
      "provenance": [],
      "authorship_tag": "ABX9TyMlVoFC+RMxDLRqc0uNKZF3",
      "include_colab_link": true
    },
    "kernelspec": {
      "name": "python3",
      "display_name": "Python 3"
    },
    "language_info": {
      "name": "python"
    }
  },
  "cells": [
    {
      "cell_type": "markdown",
      "metadata": {
        "id": "view-in-github",
        "colab_type": "text"
      },
      "source": [
        "<a href=\"https://colab.research.google.com/github/pragya22/ML_Notebooks/blob/main/Intro_to_PyTorch.ipynb\" target=\"_parent\"><img src=\"https://colab.research.google.com/assets/colab-badge.svg\" alt=\"Open In Colab\"/></a>"
      ]
    },
    {
      "cell_type": "code",
      "execution_count": 1,
      "metadata": {
        "id": "UtDgbCtB0QIj",
        "colab": {
          "base_uri": "https://localhost:8080/"
        },
        "outputId": "f85178a2-eec8-4d67-8234-8aa4e0d01fc3"
      },
      "outputs": [
        {
          "output_type": "execute_result",
          "data": {
            "text/plain": [
              "4"
            ]
          },
          "metadata": {},
          "execution_count": 1
        }
      ],
      "source": [
        "2+2"
      ]
    },
    {
      "cell_type": "markdown",
      "source": [
        "**Tensors**\n",
        "\n",
        "\n",
        "*   A torch.Tensor is a multi-dimensional matrix containing elements of a single datatype.\n",
        "*   Similar to Numpy arrays, but full of fun things that make them work better on GPUs(vs the regular CPUs).\n",
        "*   More suitable for deep learning than a numpy array.\n",
        "*   default datatype of float32(numpy is float64)\n",
        "*   Just like python list.\n",
        "\n"
      ],
      "metadata": {
        "id": "e4XrngB-vCOb"
      }
    },
    {
      "cell_type": "markdown",
      "source": [
        "**Python Lists**"
      ],
      "metadata": {
        "id": "9JXKC9RpvrjT"
      }
    },
    {
      "cell_type": "code",
      "source": [
        "my_list=[1,2,3,4]"
      ],
      "metadata": {
        "id": "EdqRN3kFukEf"
      },
      "execution_count": 2,
      "outputs": []
    },
    {
      "cell_type": "code",
      "source": [
        "my_list=[[1,2,3,4],[5,6,7,8]]\n",
        "my_list"
      ],
      "metadata": {
        "colab": {
          "base_uri": "https://localhost:8080/"
        },
        "id": "jrB9fFQ5vwvg",
        "outputId": "a78b561a-054a-493e-d5ba-9a2bd0d9aba6"
      },
      "execution_count": 4,
      "outputs": [
        {
          "output_type": "execute_result",
          "data": {
            "text/plain": [
              "[[1, 2, 3, 4], [5, 6, 7, 8]]"
            ]
          },
          "metadata": {},
          "execution_count": 4
        }
      ]
    },
    {
      "cell_type": "code",
      "source": [
        "type(my_list)"
      ],
      "metadata": {
        "colab": {
          "base_uri": "https://localhost:8080/"
        },
        "id": "l2C0LQ35v0-i",
        "outputId": "a27db9e9-be6e-4133-98c6-15dbfb51a0e0"
      },
      "execution_count": 7,
      "outputs": [
        {
          "output_type": "execute_result",
          "data": {
            "text/plain": [
              "list"
            ]
          },
          "metadata": {},
          "execution_count": 7
        }
      ]
    },
    {
      "cell_type": "markdown",
      "source": [
        "**Numpy Arrays**"
      ],
      "metadata": {
        "id": "ZvZXHmEXwcBL"
      }
    },
    {
      "cell_type": "code",
      "source": [
        "import numpy as np"
      ],
      "metadata": {
        "id": "QSQtvFz7v4eg"
      },
      "execution_count": 8,
      "outputs": []
    },
    {
      "cell_type": "code",
      "source": [
        "np1=np.random.rand(3,4)\n",
        "np1"
      ],
      "metadata": {
        "colab": {
          "base_uri": "https://localhost:8080/"
        },
        "id": "KrW2lw_Owgir",
        "outputId": "947028da-771f-4245-d332-64671bb7e35c"
      },
      "execution_count": 11,
      "outputs": [
        {
          "output_type": "execute_result",
          "data": {
            "text/plain": [
              "array([[0.50365426, 0.9184525 , 0.88508889, 0.91212822],\n",
              "       [0.56687601, 0.4707956 , 0.40444437, 0.37867224],\n",
              "       [0.44667692, 0.53638616, 0.76327955, 0.76177744]])"
            ]
          },
          "metadata": {},
          "execution_count": 11
        }
      ]
    },
    {
      "cell_type": "code",
      "source": [
        "np1.dtype"
      ],
      "metadata": {
        "colab": {
          "base_uri": "https://localhost:8080/"
        },
        "id": "ZLXToVCMwjpX",
        "outputId": "4f7f3204-1afb-4f02-9a41-2ccb28d21db4"
      },
      "execution_count": 10,
      "outputs": [
        {
          "output_type": "execute_result",
          "data": {
            "text/plain": [
              "dtype('float64')"
            ]
          },
          "metadata": {},
          "execution_count": 10
        }
      ]
    },
    {
      "cell_type": "markdown",
      "source": [
        "**Tensors**"
      ],
      "metadata": {
        "id": "1EyMy07ZwoQ_"
      }
    },
    {
      "cell_type": "code",
      "source": [
        "import torch\n",
        "tensor_2d=torch.randn(3,4)\n",
        "tensor_2d"
      ],
      "metadata": {
        "colab": {
          "base_uri": "https://localhost:8080/"
        },
        "id": "VfdaBYRVwlAu",
        "outputId": "d24c0959-a4b3-4e86-e056-06e10052913b"
      },
      "execution_count": 13,
      "outputs": [
        {
          "output_type": "execute_result",
          "data": {
            "text/plain": [
              "tensor([[-1.3676, -0.0868, -0.1005, -0.4735],\n",
              "        [ 0.4366, -0.6158, -0.7326,  0.3156],\n",
              "        [ 0.8462, -1.4034, -0.5373, -0.8301]])"
            ]
          },
          "metadata": {},
          "execution_count": 13
        }
      ]
    },
    {
      "cell_type": "code",
      "source": [
        "torch_3d=torch.zeros(2,3,4)\n",
        "torch_3d"
      ],
      "metadata": {
        "colab": {
          "base_uri": "https://localhost:8080/"
        },
        "id": "Hrh9kGQOwtpT",
        "outputId": "1aa50aff-ae53-43b1-9db8-4082a050a73e"
      },
      "execution_count": 15,
      "outputs": [
        {
          "output_type": "execute_result",
          "data": {
            "text/plain": [
              "tensor([[[0., 0., 0., 0.],\n",
              "         [0., 0., 0., 0.],\n",
              "         [0., 0., 0., 0.]],\n",
              "\n",
              "        [[0., 0., 0., 0.],\n",
              "         [0., 0., 0., 0.],\n",
              "         [0., 0., 0., 0.]]])"
            ]
          },
          "metadata": {},
          "execution_count": 15
        }
      ]
    },
    {
      "cell_type": "code",
      "source": [
        "torch_3d.dtype"
      ],
      "metadata": {
        "colab": {
          "base_uri": "https://localhost:8080/"
        },
        "id": "c9G4b4Vgw3bI",
        "outputId": "3912cf74-ad49-491c-d263-dafb6ce755ba"
      },
      "execution_count": 16,
      "outputs": [
        {
          "output_type": "execute_result",
          "data": {
            "text/plain": [
              "torch.float32"
            ]
          },
          "metadata": {},
          "execution_count": 16
        }
      ]
    },
    {
      "cell_type": "markdown",
      "source": [
        "**convert numpy array to tensor**"
      ],
      "metadata": {
        "id": "g1KLVuw1xBE3"
      }
    },
    {
      "cell_type": "code",
      "source": [
        "my_tensor=torch.tensor(np1)\n",
        "my_tensor"
      ],
      "metadata": {
        "colab": {
          "base_uri": "https://localhost:8080/"
        },
        "id": "yXYzjscpw_WE",
        "outputId": "1799da45-ca22-4501-82ba-0956be7c2ecf"
      },
      "execution_count": 18,
      "outputs": [
        {
          "output_type": "execute_result",
          "data": {
            "text/plain": [
              "tensor([[0.5037, 0.9185, 0.8851, 0.9121],\n",
              "        [0.5669, 0.4708, 0.4044, 0.3787],\n",
              "        [0.4467, 0.5364, 0.7633, 0.7618]], dtype=torch.float64)"
            ]
          },
          "metadata": {},
          "execution_count": 18
        }
      ]
    },
    {
      "cell_type": "code",
      "source": [
        "my_tensor.dtype"
      ],
      "metadata": {
        "colab": {
          "base_uri": "https://localhost:8080/"
        },
        "id": "XUvbFzoZxG0r",
        "outputId": "3c9695bd-7fa8-49e5-fdef-b3efef1a6c1c"
      },
      "execution_count": 19,
      "outputs": [
        {
          "output_type": "execute_result",
          "data": {
            "text/plain": [
              "torch.float64"
            ]
          },
          "metadata": {},
          "execution_count": 19
        }
      ]
    },
    {
      "cell_type": "markdown",
      "source": [
        "**TENSOR OPERATIONS**"
      ],
      "metadata": {
        "id": "SQtvCt0QxTr5"
      }
    },
    {
      "cell_type": "code",
      "source": [],
      "metadata": {
        "colab": {
          "base_uri": "https://localhost:8080/",
          "height": 106
        },
        "id": "Ej7E5uLbxJtv",
        "outputId": "90b29fc7-97da-4ecf-91fd-cc7ef5b94ea7"
      },
      "execution_count": 20,
      "outputs": [
        {
          "output_type": "error",
          "ename": "SyntaxError",
          "evalue": "invalid syntax (<ipython-input-20-45926dc913d1>, line 1)",
          "traceback": [
            "\u001b[0;36m  File \u001b[0;32m\"<ipython-input-20-45926dc913d1>\"\u001b[0;36m, line \u001b[0;32m1\u001b[0m\n\u001b[0;31m    **TENSOR OPERATIONS**\u001b[0m\n\u001b[0m    ^\u001b[0m\n\u001b[0;31mSyntaxError\u001b[0m\u001b[0;31m:\u001b[0m invalid syntax\n"
          ]
        }
      ]
    },
    {
      "cell_type": "code",
      "source": [],
      "metadata": {
        "id": "dCtUzek5xORj"
      },
      "execution_count": null,
      "outputs": []
    }
  ]
}